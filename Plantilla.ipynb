{
  "cells": [
    {
      "cell_type": "markdown",
      "metadata": {
        "id": "OMpIF2IixiEt"
      },
      "source": [
        "<a href=\"https://colab.research.google.com/github/andres-merino/FormatoBaseProyectos/blob/main/Plantilla.ipynb\" target=\"_parent\"><img src=\"https://colab.research.google.com/assets/colab-badge.svg\" alt=\"Open In Colab\"/></a>"
      ]
    },
    {
      "cell_type": "markdown",
      "metadata": {
        "id": "h35MxV1jxiEu"
      },
      "source": [
        "<table style=\"border: none; border-collapse: collapse;\">\n",
        "    <tr>\n",
        "        <td style=\"width: 20%; vertical-align: middle; padding-right: 10px;\">\n",
        "            <img src=\"https://i.imgur.com/nt7hloA.png\" width=\"100\">\n",
        "        </td>\n",
        "        <td style=\"width: 2px; text-align: center;\">\n",
        "            <font color=\"#0030A1\" size=\"7\">|</font><br>\n",
        "            <font color=\"#0030A1\" size=\"7\">|</font>\n",
        "        </td>\n",
        "        <td>\n",
        "            <p style=\"font-variant: small-caps;\"><font color=\"#0030A1\" size=\"5\">\n",
        "                <b>Carrera de Ciencia de Datos</b>\n",
        "            </font> </p>\n",
        "            <p style=\"font-variant: small-caps;\"><font color=\"#0030A1\" size=\"4\">\n",
        "                Asignatura &bull; Tema\n",
        "            </font></p>\n",
        "            <p style=\"font-style: oblique;\"><font color=\"#0030A1\" size=\"3\">\n",
        "                Andrés Merino &bull; 2025-01\n",
        "            </font></p>\n",
        "        </td>  \n",
        "    </tr>\n",
        "</table>"
      ]
    },
    {
      "cell_type": "markdown",
      "metadata": {
        "id": "I7uCDw72xiEu"
      },
      "source": [
        "---\n",
        "## <font color='264CC7'> Introducción </font>\n",
        "\n",
        "En construcción."
      ]
    },
    {
      "cell_type": "markdown",
      "metadata": {
        "id": "mJADCrGVxiEv"
      },
      "source": [
        "Los paquetes necesarios son:"
      ]
    },
    {
      "cell_type": "code",
      "execution_count": 1,
      "metadata": {
        "id": "JqO0d032xiEv"
      },
      "outputs": [],
      "source": [
        "# Paquetes necesarios\n",
        "import pandas as pd"
      ]
    },
    {
      "cell_type": "markdown",
      "metadata": {
        "id": "AhPzdxpVxiEw"
      },
      "source": [
        "---\n",
        "## <font color='264CC7'> Lectura de datos </font>\n"
      ]
    },
    {
      "cell_type": "code",
      "execution_count": 2,
      "metadata": {
        "colab": {
          "base_uri": "https://localhost:8080/",
          "height": 206
        },
        "id": "9XYhnBmjxiEw",
        "outputId": "0311f49b-5ff4-4929-e4ee-1891fffd6d69"
      },
      "outputs": [
        {
          "data": {
            "text/html": [
              "<div>\n",
              "<style scoped>\n",
              "    .dataframe tbody tr th:only-of-type {\n",
              "        vertical-align: middle;\n",
              "    }\n",
              "\n",
              "    .dataframe tbody tr th {\n",
              "        vertical-align: top;\n",
              "    }\n",
              "\n",
              "    .dataframe thead th {\n",
              "        text-align: right;\n",
              "    }\n",
              "</style>\n",
              "<table border=\"1\" class=\"dataframe\">\n",
              "  <thead>\n",
              "    <tr style=\"text-align: right;\">\n",
              "      <th></th>\n",
              "      <th>Num</th>\n",
              "      <th>Letr</th>\n",
              "    </tr>\n",
              "  </thead>\n",
              "  <tbody>\n",
              "    <tr>\n",
              "      <th>0</th>\n",
              "      <td>1</td>\n",
              "      <td>A</td>\n",
              "    </tr>\n",
              "    <tr>\n",
              "      <th>1</th>\n",
              "      <td>2</td>\n",
              "      <td>B</td>\n",
              "    </tr>\n",
              "    <tr>\n",
              "      <th>2</th>\n",
              "      <td>3</td>\n",
              "      <td>C</td>\n",
              "    </tr>\n",
              "    <tr>\n",
              "      <th>3</th>\n",
              "      <td>4</td>\n",
              "      <td>D</td>\n",
              "    </tr>\n",
              "    <tr>\n",
              "      <th>4</th>\n",
              "      <td>5</td>\n",
              "      <td>E</td>\n",
              "    </tr>\n",
              "  </tbody>\n",
              "</table>\n",
              "</div>"
            ],
            "text/plain": [
              "   Num  Letr\n",
              "0    1     A\n",
              "1    2     B\n",
              "2    3     C\n",
              "3    4     D\n",
              "4    5     E"
            ]
          },
          "metadata": {},
          "output_type": "display_data"
        }
      ],
      "source": [
        "# Cargar datos\n",
        "df = pd.read_csv('https://raw.githubusercontent.com/andres-merino/FormatoBaseProyectos/refs/heads/main/datos/datos.csv')\n",
        "display(df.head())"
      ]
    },
    {
      "cell_type": "code",
      "execution_count": 4,
      "metadata": {},
      "outputs": [
        {
          "data": {
            "text/plain": [
              "<bound method NDFrame.head of            Date        Company          Sector        Open        High  \\\n",
              "0    2022-01-01           Uber      Technology  100.000000  101.036120   \n",
              "1    2022-01-02          Tesla      Automotive  100.071106  102.037960   \n",
              "2    2022-01-03      Panasonic         Finance   99.857828  101.517497   \n",
              "3    2022-01-04        Tencent      Automotive   98.851663  101.303783   \n",
              "4    2022-01-05    Wells Fargo      Automotive   98.391118   99.990486   \n",
              "..          ...            ...             ...         ...         ...   \n",
              "995  2024-09-22         Pfizer          Energy  121.428608  123.693983   \n",
              "996  2024-09-23      Panasonic  Consumer Goods  122.302376  124.731488   \n",
              "997  2024-09-24  Goldman Sachs          Energy  120.638302  122.485538   \n",
              "998  2024-09-25           Lyft       Aerospace  120.228806  123.124765   \n",
              "999  2024-09-26         Boeing          Energy  120.558294  123.699478   \n",
              "\n",
              "            Low       Close  Volume    Market_Cap   PE_Ratio  Dividend_Yield  \\\n",
              "0     97.477809  100.000000  171958  5.156585e+11  24.253218        0.163090   \n",
              "1     97.152675  100.071106  196867  9.755658e+11  18.602848        0.288515   \n",
              "2     98.108097   99.857828  181932  4.595300e+11  10.728933        2.221827   \n",
              "3     96.998218   98.851663  153694  5.577481e+11  14.582696        1.377740   \n",
              "4     96.230707   98.391118  169879  8.607714e+11  37.491114        3.110198   \n",
              "..          ...         ...     ...           ...        ...             ...   \n",
              "995  119.425495  121.428608   54757  4.469189e+10  22.313632        0.083782   \n",
              "996  120.182416  122.302376   69097  1.116972e+11  22.945209        3.395996   \n",
              "997  118.135033  120.638302  191467  5.989330e+11  21.854227        0.382841   \n",
              "998  117.959012  120.228806  197313  9.591669e+10  27.240528        2.103806   \n",
              "999  117.628380  120.558294  153892  3.766169e+11   8.175260        3.008411   \n",
              "\n",
              "     Volatility  Sentiment_Score    Trend  \n",
              "0      0.047484         0.939232  Bearish  \n",
              "1      0.022472         0.469417  Bearish  \n",
              "2      0.019991         0.399193  Bullish  \n",
              "3      0.036166         0.705853   Stable  \n",
              "4      0.034770        -0.768354   Stable  \n",
              "..          ...              ...      ...  \n",
              "995    0.018820         0.627218   Stable  \n",
              "996    0.017438         0.429906  Bullish  \n",
              "997    0.048033        -0.502406  Bearish  \n",
              "998    0.018396         0.820433  Bullish  \n",
              "999    0.020437        -0.691168  Bullish  \n",
              "\n",
              "[1000 rows x 14 columns]>"
            ]
          },
          "metadata": {},
          "output_type": "display_data"
        }
      ],
      "source": [
        "df= pd.read_csv('https://raw.githubusercontent.com/Ethan-Taipe/formato-proyecto/refs/heads/main/synthetic_stock_data.csv')\n",
        "display(df.head)"
      ]
    }
  ],
  "metadata": {
    "colab": {
      "provenance": []
    },
    "kernelspec": {
      "display_name": "Python 3",
      "language": "python",
      "name": "python3"
    },
    "language_info": {
      "codemirror_mode": {
        "name": "ipython",
        "version": 3
      },
      "file_extension": ".py",
      "mimetype": "text/x-python",
      "name": "python",
      "nbconvert_exporter": "python",
      "pygments_lexer": "ipython3",
      "version": "3.13.0"
    }
  },
  "nbformat": 4,
  "nbformat_minor": 0
}
